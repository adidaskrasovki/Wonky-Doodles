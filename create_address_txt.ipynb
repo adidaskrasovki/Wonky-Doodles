{
 "cells": [
  {
   "cell_type": "code",
   "execution_count": 14,
   "metadata": {},
   "outputs": [],
   "source": [
    "import os\n",
    "from natsort import natsorted, ns\n",
    "\n",
    "filedir = \".\\quickdraw_dataset_png\"\n",
    "\n",
    "addresses = []\n",
    "for root, dirs, files in os.walk(filedir):\n",
    "        for file in files:\n",
    "            addresses.append(os.path.join(root, file))\n",
    "\n",
    "addresses = natsorted(addresses, alg=ns.IGNORECASE)\n",
    "\n",
    "with open('address_list.txt', 'w') as f:\n",
    "    for address in addresses:\n",
    "        f.write(f\"{address}\\n\")"
   ]
  },
  {
   "cell_type": "code",
   "execution_count": 15,
   "metadata": {},
   "outputs": [],
   "source": [
    "labels = []\n",
    "for root, dirs, files in os.walk(filedir):\n",
    "        for dir in dirs:\n",
    "            labels.append(dir)\n",
    "\n",
    "labels = natsorted(labels, alg=ns.IGNORECASE)\n",
    "\n",
    "with open('label_list.txt', 'w') as f:\n",
    "    for label in labels:\n",
    "        f.write(f\"{label}\\n\")"
   ]
  }
 ],
 "metadata": {
  "kernelspec": {
   "display_name": "Python 3",
   "language": "python",
   "name": "python3"
  },
  "language_info": {
   "codemirror_mode": {
    "name": "ipython",
    "version": 3
   },
   "file_extension": ".py",
   "mimetype": "text/x-python",
   "name": "python",
   "nbconvert_exporter": "python",
   "pygments_lexer": "ipython3",
   "version": "3.10.12"
  },
  "orig_nbformat": 4
 },
 "nbformat": 4,
 "nbformat_minor": 2
}
