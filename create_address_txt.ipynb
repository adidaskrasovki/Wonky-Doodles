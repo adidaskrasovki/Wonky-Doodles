{
 "cells": [
  {
   "cell_type": "code",
   "execution_count": null,
   "metadata": {},
   "outputs": [],
   "source": [
    "import os\n",
    "from itertools import islice\n",
    "from IPython.display import clear_output\n",
    "from natsort import natsorted, ns\n",
    "\n",
    "filedir = \"./quickdraw_dataset_png\"\n",
    "# filedir = '//LAPTOP-NCIKG438/Cempos python scripts/Doodles/quickdraw_dataset_png'\n",
    "\n",
    "limit_ratio = 1/6\n"
   ]
  },
  {
   "cell_type": "code",
   "execution_count": null,
   "metadata": {},
   "outputs": [],
   "source": [
    "for dir in os.listdir(filedir):\n",
    "    clear_output(wait=True)\n",
    "    print(dir)\n",
    "    \n",
    "    files = natsorted(os.listdir(f\"{filedir}/{dir}\"), alg=ns.IGNORECASE)\n",
    "    dir_len = len(files)\n",
    "    with open(f\"{filedir}/{dir}/address_list.txt\", 'w') as f:\n",
    "        # f.write(f\"{filedir}/{dir}/{files[0]}\")\n",
    "        for idx, file in enumerate(files[:dir_len-1]):\n",
    "            f.write(f\"{filedir}/{dir}/{file}\\n\")\n",
    "            if idx > dir_len * limit_ratio: break"
   ]
  },
  {
   "cell_type": "code",
   "execution_count": null,
   "metadata": {},
   "outputs": [],
   "source": [
    "n_items = 0\n",
    "dirs = os.listdir(filedir)\n",
    "with open('label_list.txt', 'w') as f:\n",
    "    for dir in dirs:\n",
    "        with open(f\"{filedir}/{dir}/address_list.txt\") as g:\n",
    "            n_items += len(g.readlines())\n",
    "            f.write(f\"{dir}_{n_items}\\n\")"
   ]
  }
 ],
 "metadata": {
  "kernelspec": {
   "display_name": "Python 3",
   "language": "python",
   "name": "python3"
  },
  "language_info": {
   "codemirror_mode": {
    "name": "ipython",
    "version": 3
   },
   "file_extension": ".py",
   "mimetype": "text/x-python",
   "name": "python",
   "nbconvert_exporter": "python",
   "pygments_lexer": "ipython3",
   "version": "3.10.12"
  },
  "orig_nbformat": 4
 },
 "nbformat": 4,
 "nbformat_minor": 2
}
