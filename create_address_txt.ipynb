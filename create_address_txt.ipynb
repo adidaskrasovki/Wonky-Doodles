{
 "cells": [
  {
   "cell_type": "code",
   "execution_count": 6,
   "metadata": {},
   "outputs": [],
   "source": [
    "import os\n",
    "from natsort import natsorted, ns\n",
    "\n",
    "filedir = \".\\quickdraw_dataset_png\"\n",
    "# filedir = '//LAPTOP-NCIKG438/Cempos python scripts/Doodles/quickdraw_dataset_png'\n"
   ]
  },
  {
   "cell_type": "code",
   "execution_count": 10,
   "metadata": {},
   "outputs": [],
   "source": [
    "with open('address_list.txt', 'w') as f:\n",
    "    for root, dirs, files in os.walk(filedir):\n",
    "            limiter = len(files)/6\n",
    "            files = natsorted(files, alg=ns.IGNORECASE)\n",
    "            for idx, file in enumerate(files):\n",
    "                f.write(f\"{os.path.join(root, file)}\\n\")\n",
    "                if idx > limiter: break\n"
   ]
  },
  {
   "cell_type": "code",
   "execution_count": 11,
   "metadata": {},
   "outputs": [],
   "source": [
    "with open('label_list.txt', 'w') as f:\n",
    "    for root, dirs, files in os.walk(filedir):\n",
    "        dirs = natsorted(dirs, alg=ns.IGNORECASE)\n",
    "        for dir in dirs:\n",
    "            f.write(f\"{dir}\\n\")"
   ]
  }
 ],
 "metadata": {
  "kernelspec": {
   "display_name": "Python 3",
   "language": "python",
   "name": "python3"
  },
  "language_info": {
   "codemirror_mode": {
    "name": "ipython",
    "version": 3
   },
   "file_extension": ".py",
   "mimetype": "text/x-python",
   "name": "python",
   "nbconvert_exporter": "python",
   "pygments_lexer": "ipython3",
   "version": "3.10.12"
  },
  "orig_nbformat": 4
 },
 "nbformat": 4,
 "nbformat_minor": 2
}
