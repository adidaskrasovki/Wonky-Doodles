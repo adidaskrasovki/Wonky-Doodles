{
 "cells": [
  {
   "cell_type": "code",
   "execution_count": 5,
   "metadata": {},
   "outputs": [
    {
     "name": "stdout",
     "output_type": "stream",
     "text": [
      "Step 1 / 10\n"
     ]
    }
   ],
   "source": [
    "import os\n",
    "from IPython.display import clear_output\n",
    "from natsort import natsorted, ns\n",
    "import math\n",
    "\n",
    "filedir = \"E:/WonkyDoodles/qd_png\"\n",
    "\n",
    "n_steps = 10\n",
    "step = 1\n",
    "\n",
    "print(f\"Step {step} / {n_steps}\")\n"
   ]
  },
  {
   "cell_type": "code",
   "execution_count": 6,
   "metadata": {},
   "outputs": [
    {
     "name": "stdout",
     "output_type": "stream",
     "text": [
      "zigzag\n"
     ]
    }
   ],
   "source": [
    "for dir in os.listdir(filedir):\n",
    "    clear_output(wait=True)\n",
    "    print(dir)\n",
    "    \n",
    "    files = natsorted(os.listdir(f\"{filedir}/{dir}\"), alg=ns.IGNORECASE)\n",
    "    dir_len = len(files)\n",
    "    files = files[int(math.floor( ((step-1)/n_steps) * len(files) )) : int( math.ceil((step/n_steps) * len(files)) ) - 1]\n",
    "\n",
    "    with open(f\"{filedir}/{dir}/address_list.txt\", 'w') as f:\n",
    "        for file in files:\n",
    "            f.write(f\"{filedir}/{dir}/{file}\\n\")\n"
   ]
  },
  {
   "cell_type": "code",
   "execution_count": 8,
   "metadata": {},
   "outputs": [],
   "source": [
    "n_items = 0\n",
    "dirs = os.listdir(filedir)\n",
    "with open('label_list.txt', 'w') as f:\n",
    "    for dir in dirs:\n",
    "        with open(f\"{filedir}/{dir}/address_list.txt\") as g:\n",
    "            n_items += len(g.readlines())\n",
    "            f.write(f\"{dir}_{n_items}\\n\")\n",
    "            "
   ]
  }
 ],
 "metadata": {
  "kernelspec": {
   "display_name": "Python 3",
   "language": "python",
   "name": "python3"
  },
  "language_info": {
   "codemirror_mode": {
    "name": "ipython",
    "version": 3
   },
   "file_extension": ".py",
   "mimetype": "text/x-python",
   "name": "python",
   "nbconvert_exporter": "python",
   "pygments_lexer": "ipython3",
   "version": "3.10.12"
  },
  "orig_nbformat": 4
 },
 "nbformat": 4,
 "nbformat_minor": 2
}
