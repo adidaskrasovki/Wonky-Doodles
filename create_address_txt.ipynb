{
 "cells": [
  {
   "cell_type": "code",
   "execution_count": 4,
   "metadata": {},
   "outputs": [],
   "source": [
    "import os\n",
    "from natsort import natsorted, ns\n",
    "\n",
    "filedir = \"D:\\cempos python scripts\\machine learning\\Doodles\\quickdraw_dataset_png\"\n",
    "\n",
    "addresses = []\n",
    "for root, dirs, files in os.walk(filedir):\n",
    "        for file in files:\n",
    "            addresses.append(os.path.join(root, file))\n",
    "\n",
    "addresses = natsorted(addresses, alg=ns.IGNORECASE)\n",
    "\n",
    "with open('address_list.txt', 'w') as f:\n",
    "    for address in addresses:\n",
    "        f.write(f\"{address}\\n\")"
   ]
  }
 ],
 "metadata": {
  "kernelspec": {
   "display_name": "Python 3",
   "language": "python",
   "name": "python3"
  },
  "language_info": {
   "codemirror_mode": {
    "name": "ipython",
    "version": 3
   },
   "file_extension": ".py",
   "mimetype": "text/x-python",
   "name": "python",
   "nbconvert_exporter": "python",
   "pygments_lexer": "ipython3",
   "version": "3.10.12"
  },
  "orig_nbformat": 4
 },
 "nbformat": 4,
 "nbformat_minor": 2
}
