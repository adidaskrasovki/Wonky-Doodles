{
 "cells": [
  {
   "cell_type": "code",
   "execution_count": 1,
   "metadata": {},
   "outputs": [
    {
     "name": "stdout",
     "output_type": "stream",
     "text": [
      "Stint 7 / 10\n"
     ]
    }
   ],
   "source": [
    "import os\n",
    "from IPython.display import clear_output\n",
    "from natsort import natsorted, ns\n",
    "import math\n",
    "\n",
    "filedir = \"E:/WonkyDoodles/qd_png\"\n",
    "\n",
    "n_stints = 10\n",
    "stint = 7\n",
    "\n",
    "print(f\"Stint {stint} / {n_stints}\")\n"
   ]
  },
  {
   "cell_type": "code",
   "execution_count": 2,
   "metadata": {},
   "outputs": [
    {
     "name": "stdout",
     "output_type": "stream",
     "text": [
      "zigzag\n"
     ]
    }
   ],
   "source": [
    "for dir in os.listdir(filedir):\n",
    "    clear_output(wait=True)\n",
    "    print(dir)\n",
    "    \n",
    "    files = natsorted(os.listdir(f\"{filedir}/{dir}\"), alg=ns.IGNORECASE)\n",
    "    # dir_len = len(files)\n",
    "    files = files[int(math.floor( ((stint-1)/n_stints) * len(files) )) : int( math.ceil((stint/n_stints) * len(files)) ) - 1]\n",
    "\n",
    "    with open(f\"{filedir}/{dir}/address_list.txt\", 'w') as f:\n",
    "        for file in files:\n",
    "            f.write(f\"{filedir}/{dir}/{file}\\n\")\n"
   ]
  },
  {
   "cell_type": "code",
   "execution_count": 3,
   "metadata": {},
   "outputs": [],
   "source": [
    "n_items = 0\n",
    "dirs = os.listdir(filedir)\n",
    "with open('label_list.txt', 'w') as f:\n",
    "    for dir in dirs:\n",
    "        with open(f\"{filedir}/{dir}/address_list.txt\") as g:\n",
    "            n_items += len(g.readlines())\n",
    "            f.write(f\"{dir}_{n_items}\\n\")\n",
    "            "
   ]
  }
 ],
 "metadata": {
  "kernelspec": {
   "display_name": "Python 3",
   "language": "python",
   "name": "python3"
  },
  "language_info": {
   "codemirror_mode": {
    "name": "ipython",
    "version": 3
   },
   "file_extension": ".py",
   "mimetype": "text/x-python",
   "name": "python",
   "nbconvert_exporter": "python",
   "pygments_lexer": "ipython3",
   "version": "3.10.12"
  },
  "orig_nbformat": 4
 },
 "nbformat": 4,
 "nbformat_minor": 2
}
